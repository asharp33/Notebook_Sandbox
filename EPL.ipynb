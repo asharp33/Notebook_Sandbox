{
 "cells": [
  {
   "cell_type": "code",
   "execution_count": 1,
   "metadata": {},
   "outputs": [],
   "source": [
    "import pandas as pd"
   ]
  },
  {
   "cell_type": "code",
   "execution_count": null,
   "metadata": {},
   "outputs": [],
   "source": []
  },
  {
   "cell_type": "code",
   "execution_count": 2,
   "metadata": {},
   "outputs": [],
   "source": [
    "data = pd.read_csv(\"/home/allen/Downloads/complete.csv\")\n"
   ]
  },
  {
   "cell_type": "code",
   "execution_count": 3,
   "metadata": {},
   "outputs": [
    {
     "data": {
      "text/plain": [
       "ID                                                                    20801\n",
       "name                                                      Cristiano Ronaldo\n",
       "full_name                                      C. Ronaldo dos Santos Aveiro\n",
       "club                                                         Real Madrid CF\n",
       "club_logo                           https://cdn.sofifa.org/18/teams/243.png\n",
       "special                                                                2228\n",
       "age                                                                      32\n",
       "league                                             Spanish Primera División\n",
       "birth_date                                                       1985-02-05\n",
       "height_cm                                                               185\n",
       "weight_kg                                                                80\n",
       "body_type                                                        C. Ronaldo\n",
       "real_face                                                              True\n",
       "flag                                 https://cdn.sofifa.org/flags/38@3x.png\n",
       "nationality                                                        Portugal\n",
       "photo                           https://cdn.sofifa.org/18/players/20801.png\n",
       "eur_value                                                          9.55e+07\n",
       "eur_wage                                                             565000\n",
       "eur_release_clause                                                1.958e+08\n",
       "overall                                                                  94\n",
       "potential                                                                94\n",
       "pac                                                                      90\n",
       "sho                                                                      93\n",
       "pas                                                                      82\n",
       "dri                                                                      90\n",
       "def                                                                      33\n",
       "phy                                                                      80\n",
       "international_reputation                                                  5\n",
       "skill_moves                                                               5\n",
       "weak_foot                                                                 4\n",
       "                                                   ...                     \n",
       "acrobat_speciality                                                     True\n",
       "strength_speciality                                                   False\n",
       "clinical_finisher_speciality                                           True\n",
       "prefers_rs                                                            False\n",
       "prefers_rw                                                            False\n",
       "prefers_rf                                                            False\n",
       "prefers_ram                                                           False\n",
       "prefers_rcm                                                           False\n",
       "prefers_rm                                                            False\n",
       "prefers_rdm                                                           False\n",
       "prefers_rcb                                                           False\n",
       "prefers_rb                                                            False\n",
       "prefers_rwb                                                           False\n",
       "prefers_st                                                             True\n",
       "prefers_lw                                                             True\n",
       "prefers_cf                                                            False\n",
       "prefers_cam                                                           False\n",
       "prefers_cm                                                            False\n",
       "prefers_lm                                                            False\n",
       "prefers_cdm                                                           False\n",
       "prefers_cb                                                            False\n",
       "prefers_lb                                                            False\n",
       "prefers_lwb                                                           False\n",
       "prefers_ls                                                            False\n",
       "prefers_lf                                                            False\n",
       "prefers_lam                                                           False\n",
       "prefers_lcm                                                           False\n",
       "prefers_ldm                                                           False\n",
       "prefers_lcb                                                           False\n",
       "prefers_gk                                                            False\n",
       "Name: 0, Length: 185, dtype: object"
      ]
     },
     "execution_count": 3,
     "metadata": {},
     "output_type": "execute_result"
    }
   ],
   "source": [
    "data.T[0]\n"
   ]
  },
  {
   "cell_type": "code",
   "execution_count": 4,
   "metadata": {},
   "outputs": [
    {
     "data": {
      "text/plain": [
       "<matplotlib.axes._subplots.AxesSubplot at 0x7f4aad4cb9e8>"
      ]
     },
     "execution_count": 4,
     "metadata": {},
     "output_type": "execute_result"
    }
   ],
   "source": [
    "data.plot(x=data.birth_date, style=\",-\")\n"
   ]
  },
  {
   "cell_type": "code",
   "execution_count": 5,
   "metadata": {},
   "outputs": [
    {
     "ename": "TypeError",
     "evalue": "'DataFrame' object is not callable",
     "output_type": "error",
     "traceback": [
      "\u001b[0;31m---------------------------------------------------------------------------\u001b[0m",
      "\u001b[0;31mTypeError\u001b[0m                                 Traceback (most recent call last)",
      "\u001b[0;32m<ipython-input-5-df5ea695112f>\u001b[0m in \u001b[0;36m<module>\u001b[0;34m()\u001b[0m\n\u001b[0;32m----> 1\u001b[0;31m \u001b[0mdata\u001b[0m\u001b[0;34m.\u001b[0m\u001b[0mT\u001b[0m\u001b[0;34m(\u001b[0m\u001b[0;36m3\u001b[0m\u001b[0;34m)\u001b[0m\u001b[0;34m\u001b[0m\u001b[0m\n\u001b[0m",
      "\u001b[0;31mTypeError\u001b[0m: 'DataFrame' object is not callable"
     ]
    }
   ],
   "source": [
    "data.T(3)"
   ]
  },
  {
   "cell_type": "code",
   "execution_count": 6,
   "metadata": {},
   "outputs": [
    {
     "ename": "NameError",
     "evalue": "name 'T' is not defined",
     "output_type": "error",
     "traceback": [
      "\u001b[0;31m---------------------------------------------------------------------------\u001b[0m",
      "\u001b[0;31mNameError\u001b[0m                                 Traceback (most recent call last)",
      "\u001b[0;32m<ipython-input-6-f1436c5851e1>\u001b[0m in \u001b[0;36m<module>\u001b[0;34m()\u001b[0m\n\u001b[0;32m----> 1\u001b[0;31m \u001b[0mdata\u001b[0m\u001b[0;34m,\u001b[0m\u001b[0mT\u001b[0m\u001b[0;34m[\u001b[0m\u001b[0;36m2\u001b[0m\u001b[0;34m]\u001b[0m\u001b[0;34m\u001b[0m\u001b[0m\n\u001b[0m",
      "\u001b[0;31mNameError\u001b[0m: name 'T' is not defined"
     ]
    }
   ],
   "source": [
    "data,T[2]"
   ]
  },
  {
   "cell_type": "code",
   "execution_count": 7,
   "metadata": {},
   "outputs": [
    {
     "data": {
      "text/plain": [
       "ID                                                                    190871\n",
       "name                                                                  Neymar\n",
       "full_name                                         Neymar da Silva Santos Jr.\n",
       "club                                                     Paris Saint-Germain\n",
       "club_logo                             https://cdn.sofifa.org/18/teams/73.png\n",
       "special                                                                 2100\n",
       "age                                                                       25\n",
       "league                                                        French Ligue 1\n",
       "birth_date                                                        1992-02-05\n",
       "height_cm                                                                175\n",
       "weight_kg                                                                 68\n",
       "body_type                                                             Neymar\n",
       "real_face                                                               True\n",
       "flag                                  https://cdn.sofifa.org/flags/54@3x.png\n",
       "nationality                                                           Brazil\n",
       "photo                           https://cdn.sofifa.org/18/players/190871.png\n",
       "eur_value                                                           1.23e+08\n",
       "eur_wage                                                              280000\n",
       "eur_release_clause                                                 2.368e+08\n",
       "overall                                                                   92\n",
       "potential                                                                 94\n",
       "pac                                                                       92\n",
       "sho                                                                       84\n",
       "pas                                                                       79\n",
       "dri                                                                       95\n",
       "def                                                                       30\n",
       "phy                                                                       60\n",
       "international_reputation                                                   5\n",
       "skill_moves                                                                5\n",
       "weak_foot                                                                  5\n",
       "                                                    ...                     \n",
       "acrobat_speciality                                                      True\n",
       "strength_speciality                                                    False\n",
       "clinical_finisher_speciality                                           False\n",
       "prefers_rs                                                             False\n",
       "prefers_rw                                                             False\n",
       "prefers_rf                                                             False\n",
       "prefers_ram                                                            False\n",
       "prefers_rcm                                                            False\n",
       "prefers_rm                                                             False\n",
       "prefers_rdm                                                            False\n",
       "prefers_rcb                                                            False\n",
       "prefers_rb                                                             False\n",
       "prefers_rwb                                                            False\n",
       "prefers_st                                                             False\n",
       "prefers_lw                                                              True\n",
       "prefers_cf                                                             False\n",
       "prefers_cam                                                            False\n",
       "prefers_cm                                                             False\n",
       "prefers_lm                                                             False\n",
       "prefers_cdm                                                            False\n",
       "prefers_cb                                                             False\n",
       "prefers_lb                                                             False\n",
       "prefers_lwb                                                            False\n",
       "prefers_ls                                                             False\n",
       "prefers_lf                                                             False\n",
       "prefers_lam                                                            False\n",
       "prefers_lcm                                                            False\n",
       "prefers_ldm                                                            False\n",
       "prefers_lcb                                                            False\n",
       "prefers_gk                                                             False\n",
       "Name: 2, Length: 185, dtype: object"
      ]
     },
     "execution_count": 7,
     "metadata": {},
     "output_type": "execute_result"
    }
   ],
   "source": [
    "data.T[2]"
   ]
  },
  {
   "cell_type": "code",
   "execution_count": null,
   "metadata": {},
   "outputs": [],
   "source": []
  }
 ],
 "metadata": {
  "kernelspec": {
   "display_name": "Python 3",
   "language": "python",
   "name": "python3"
  },
  "language_info": {
   "codemirror_mode": {
    "name": "ipython",
    "version": 3
   },
   "file_extension": ".py",
   "mimetype": "text/x-python",
   "name": "python",
   "nbconvert_exporter": "python",
   "pygments_lexer": "ipython3",
   "version": "3.6.4"
  }
 },
 "nbformat": 4,
 "nbformat_minor": 2
}
